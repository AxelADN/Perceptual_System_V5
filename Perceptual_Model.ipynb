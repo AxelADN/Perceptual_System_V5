{
  "nbformat": 4,
  "nbformat_minor": 0,
  "metadata": {
    "colab": {
      "provenance": [],
      "authorship_tag": "ABX9TyMCAyer8sBvYokkan++gGZJ",
      "include_colab_link": true
    },
    "kernelspec": {
      "name": "python3",
      "display_name": "Python 3"
    },
    "language_info": {
      "name": "python"
    }
  },
  "cells": [
    {
      "cell_type": "markdown",
      "metadata": {
        "id": "view-in-github",
        "colab_type": "text"
      },
      "source": [
        "<a href=\"https://colab.research.google.com/github/AxelADN/Perceptual_System_V5/blob/main/Perceptual_Model.ipynb\" target=\"_parent\"><img src=\"https://colab.research.google.com/assets/colab-badge.svg\" alt=\"Open In Colab\"/></a>"
      ]
    },
    {
      "cell_type": "code",
      "source": [
        "!mkdir Test_Data\n",
        "!mkdir Test_Data/Scenes\n",
        "!mkdir Test_Data/Scenes_Test\n",
        "!mkdir Test_Data/PCD_Objects\n",
        "!mkdir Data_Out\n",
        "!mkdir Hipp\n",
        "!mkdir Hipp/VCC\n",
        "!mkdir Hipp/VCC_Test"
      ],
      "metadata": {
        "id": "02E5nDs9OxI2"
      },
      "execution_count": null,
      "outputs": []
    },
    {
      "cell_type": "code",
      "source": [
        "!unzip Test_Data/Cocina_1.zip\n",
        "!mv Cocina_1 Test_Data/Cocina_1\n",
        "!rm Test_Data/Cocina_1.zip"
      ],
      "metadata": {
        "id": "FoWG_VwnHqNw"
      },
      "execution_count": null,
      "outputs": []
    },
    {
      "cell_type": "code",
      "source": [
        "!rm -fr Test_Data/Cocina_1/"
      ],
      "metadata": {
        "id": "nzbU-UXawylH"
      },
      "execution_count": null,
      "outputs": []
    },
    {
      "cell_type": "markdown",
      "source": [
        "======================================================= IMPORTS =================================================="
      ],
      "metadata": {
        "id": "m2TaZKdUvcvY"
      }
    },
    {
      "cell_type": "code",
      "execution_count": null,
      "metadata": {
        "id": "9IjvF7wYAXgj"
      },
      "outputs": [],
      "source": [
        "import cv2\n",
        "import pickle\n",
        "cv2.__version__\n",
        "import sys\n",
        "import os\n",
        "from google.colab.patches import cv2_imshow\n",
        "import numpy as np\n",
        "np.set_printoptions(threshold=False)\n",
        "import csv\n",
        "import pandas as pd\n",
        "import statistics as st"
      ]
    },
    {
      "cell_type": "markdown",
      "source": [
        "\n",
        "\n",
        "---\n",
        "\n",
        "\n",
        "=========================================== GENERAL CLASSES & FUNCTIONS =========================================="
      ],
      "metadata": {
        "id": "jhNPjrM-vQ6W"
      }
    },
    {
      "cell_type": "code",
      "source": [
        "def save(obj,fileName):\n",
        "    with open(fileName, \"wb\") as f:\n",
        "        pickle.dump(obj,f,protocol=pickle.HIGHEST_PROTOCOL)\n",
        "    #del obj\n",
        "\n",
        "def load(fileName):\n",
        "    with open(fileName,\"rb\") as f:\n",
        "        return pickle.load(f)"
      ],
      "metadata": {
        "id": "pQ40N0ShlOco"
      },
      "execution_count": null,
      "outputs": []
    },
    {
      "cell_type": "code",
      "source": [
        "class Point:\n",
        "\n",
        "    totalPoints =  0\n",
        "\n",
        "    def __init__(self,x0,y0):\n",
        "        self.x = x0\n",
        "        self.y = y0\n",
        "        Point.totalPoints += 1\n",
        "\n",
        "    def __str__(self):\n",
        "        return f\"[ {self.x}, {self.y} ]\"\n",
        "\n",
        "    def __eq__(self,other):\n",
        "        if not isinstance(other, Point):\n",
        "            return False\n",
        "        return self.x == other.x and self.y == other.y\n",
        "\n",
        "    def __hash__(self):\n",
        "        return hash((self.x, self.y, 31, Point.totalPoints))"
      ],
      "metadata": {
        "id": "NnjF2sk1RUlS"
      },
      "execution_count": null,
      "outputs": []
    },
    {
      "cell_type": "code",
      "source": [
        "class ROI:\n",
        "    def __init__(self,maskX0=(-1,-1), maskY0=(-1,-1),origin0=(-1,-1),size0=(-1,-1)):\n",
        "        self.maskX = maskX0\n",
        "        self.maskY = maskY0\n",
        "        self.origin = origin0\n",
        "        self.size = size0\n",
        "        if self.maskX == (-1,-1) or self.maskY == (-1,-1):\n",
        "            self.maskX = (self.origin[0],self.origin[0]+self.size[0]-1)\n",
        "            self.maskY = (self.origin[1],self.origin[1]+self.size[1]-1)\n",
        "        if self.origin == (-1,-1) and self.size != (-1,-1):\n",
        "            self.origin = (self.maskX[0],sskYelf.maskY[0])\n",
        "            self.size = (self.maskX[1]-self.maskX[0], self.maskY[1]-self.maskY[0])\n",
        "\n",
        "    def x(self):\n",
        "        return self.maskX\n",
        "\n",
        "    def y(self):\n",
        "        return self.maskY\n"
      ],
      "metadata": {
        "id": "xEoukvMtIttX"
      },
      "execution_count": null,
      "outputs": []
    },
    {
      "cell_type": "code",
      "source": [
        "class BagOfWords:\n",
        "    def __init__(self, alphabet0=(None,), featureArray0=[], posID0 = (-1,-1), th0=125):\n",
        "        self.posID = posID0\n",
        "        self.th = th0\n",
        "        self.alphabet = alphabet0\n",
        "        self.featureArray = featureArray0\n",
        "        if None in self.alphabet:\n",
        "            self.alphabet = tuple([f.symbol for f in self.featureArray])\n",
        "        if self.posID == (-1,-1):\n",
        "            self.posID = self.featureArray[-1].pos\n",
        "        self.currentSymbol = self.alphabet[0]\n",
        "        if len(self.featureArray) <= 0:\n",
        "            self.codebook = {}\n",
        "        else:\n",
        "            self.codebook = self.generateCodebook()\n",
        "        pass\n",
        "\n",
        "    def generateCodebook(self):\n",
        "        this_codebook = {}\n",
        "        i = 0\n",
        "        for matrix in self.featureArray:\n",
        "            this_codebook[self.alphabet[i]] = np.count_nonzero(matrix.matrix)\n",
        "            i+=1\n",
        "        return this_codebook\n",
        "\n",
        "    def diff(self, bow0, ord0 = 1):\n",
        "        dist = []\n",
        "        for s in self.codebook.keys():\n",
        "            #print(s)\n",
        "            dist.append(self.codebook[s]-bow0.codebook[s])\n",
        "        return dist\n",
        "        #this = np.array(this)\n",
        "        #other = np.array(other)\n",
        "        #return np.linalg.norm(this-other, ord=ord0)\n",
        "\n",
        "    def hashID(self):\n",
        "        listK = list(self.codebook.keys())\n",
        "        listK.sort()\n",
        "        return tuple([self.codebook[s] for s in listK])\n",
        "\n",
        "    def size(self):\n",
        "        return len(self.alphabet)\n",
        "\n",
        "\n",
        "    def isEmpty(self):\n",
        "        return len(self.codebook) == 0 or None in self.codebook.keys() or not any(list(self.codebook.values()))\n",
        "\n",
        "    def printCodebook(self):\n",
        "        print(f'Name: {self.featureArray[-1].name}:')\n",
        "        for s in self.codebook.keys():\n",
        "            print(f'    pos: {self.posID} --> {self.codebook[s]}')\n",
        "\n"
      ],
      "metadata": {
        "id": "sRLb4UEIlTgX"
      },
      "execution_count": null,
      "outputs": []
    },
    {
      "cell_type": "code",
      "source": [
        "class GridMask:\n",
        "    def __init__(self,sizePerSquare0=(-1,-1),sizeXY0=(-1,-1),sizeOverall0=(-1,-1)):\n",
        "        self.sizePerSquare = sizePerSquare0\n",
        "        self.sizeXY = sizeXY0\n",
        "        self.sizeOverall = sizeOverall0\n",
        "        if self.sizePerSquare == (-1,-1):\n",
        "            self.sizePerSquare = (int(self.sizeOverall[0]/self.sizeXY[0]),int(self.sizeOverall[1]/self.sizeXY[1]))\n",
        "        self.roiArray = self.buildRois()\n",
        "\n",
        "    def buildRois(self):\n",
        "        roiArray = []mean\n",
        "        for i in range(self.sizeXY[0]):\n",
        "            for j in range(self.sizeXY[1]):\n",
        "                ox = i*self.sizePerSquare[0]\n",
        "                oy = j*self.sizePerSquare[1]\n",
        "                roiArray.append(ROI(origin0=(ox,oy),size0=self.sizePerSquare))\n",
        "        return roiArray\n",
        "\n",
        "    def mask(self):\n",
        "        return self.roiArray\n"
      ],
      "metadata": {
        "id": "gZ62cseaNBdQ"
      },
      "execution_count": null,
      "outputs": []
    },
    {
      "cell_type": "code",
      "source": [
        "class AdjMatrix:\n",
        "\n",
        "    def __init__(self, bows0=None, size0=(-1,-1), numSymbols0=3):\n",
        "        self.hv = \"\"\n",
        "        self.bows = bows0\n",
        "        self.size = size0\n",
        "        self.numSymbols = numSymbols0\n",
        "        self.adj = np.array([])\n",
        "        self.figureID = np.array([])\n",
        "        self.direction = np.array([])\n",
        "\n",
        "    def assignID(self):\n",
        "        sh = self.adj.shape\n",
        "        self.figureID = np.reshape(self.adj,(sh[0],sh[1]*sh[2]))\n",
        "        self.figureID = np.reshape(self.figureID,sh[0]*sh[1]*sh[2])\n",
        "        print(self.figureID)\n",
        "        return self.figureID\n",
        "\n",
        "    def buildAdjMatrix(self):\n",
        "        self.adj = np.zeros((self.numSymbols,self.size[0]*self.size[0],self.size[1]*self.size[1]),dtype=np.int_)\n",
        "        print(self.adj.shape)\n",
        "        for i in range(len(self.bows)):\n",
        "            for j in range(len(self.bows)):\n",
        "                if self.bows[i] is not self.bows[j]:\n",
        "                    if not self.bows[i].isEmpty() and not self.bows[j].isEmpty():\n",
        "                        if self.checkOrder(i,j):\n",
        "                            self.adj[:,j,i] = np.array(self.bows[j].diff(self.bows[i]))\n",
        "                            #print(self.adj[j][i])\n",
        "        self.minMax()\n",
        "\n",
        "    def minMax(self):\n",
        "        self.direction = np.sign(self.adj)\n",
        "        adjAbs = np.absolute(self.adj)\n",
        "        max_min_ref = np.max(adjAbs)-np.min(adjAbs)\n",
        "        if max_min_ref == 0:\n",
        "            minmax = np.zeros_like(adjAbs,dtype=np.float_)\n",
        "        else:\n",
        "            minmax = (adjAbs-np.min(adjAbs))/max_min_ref\n",
        "        self.adj = minmax#np.multiply(minmax,self.direction)\n",
        "\n",
        "    def checkOrder(self,i0,j0):\n",
        "        if self.hv == \"H\":\n",
        "            return self.bows[i0].posID[0] < self.bows[j0].posID[0]\n",
        "        if self.hv == \"V\":\n",
        "            return self.bows[i0].posID[1] < self.bows[j0].posID[1]\n",
        "\n",
        "    def printID(self):\n",
        "        s = self.hv + ' - START\\n'\n",
        "        #print(len(self.adj))\n",
        "        i=0\n",
        "        for row in self.figureID:\n",
        "            s += '['\n",
        "            for n in row:\n",
        "                s += f'{n},'\n",
        "            s += '],\\n'\n",
        "        s += ']\\n' + '===================================================' + '\\n'\n",
        "        print(s)\n",
        "\n",
        "    def printAdj(self):\n",
        "        s = 'START'\n",
        "        #print(len(self.adj))\n",
        "        i=0\n",
        "        for ch in self.adj:\n",
        "            s+=f'{i}: ['\n",
        "            for row in ch:\n",
        "                s += '['\n",
        "                for n in row:\n",
        "                    s += f'{n},'\n",
        "                s += '],\\n'\n",
        "            s += ']\\n' + '===================================================' + '\\n'\n",
        "            i += 1\n",
        "        print(s)\n",
        "\n",
        "class AdjMatrixH(AdjMatrix):\n",
        "\n",
        "    def __init__(self, bows1=None, size1=(-1,-1), numSymbols1=3):\n",
        "        super().__init__(bows0=bows1,size0=size1,numSymbols0=numSymbols1)\n",
        "        self.hv = \"H\"\n",
        "        self.buildAdjMatrix()\n",
        "        self.assignID()\n",
        "\n",
        "\n",
        "class AdjMatrixV(AdjMatrix):\n",
        "\n",
        "    def __init__(self, bows1=None, size1=(-1,-1), numSymbols1=3):\n",
        "        super().__init__(bows0=bows1,size0=size1,numSymbols0=numSymbols1)\n",
        "        self.hv = \"V\"\n",
        "        self.buildAdjMatrix()\n",
        "        self.assignID()"
      ],
      "metadata": {
        "id": "7_GrJ8UZGyDH"
      },
      "execution_count": null,
      "outputs": []
    },
    {
      "cell_type": "code",
      "source": [
        "class ConcurrenceMap:\n",
        "    def __init__(self,bowArray0=[]):\n",
        "        self.bowArray = bowArray0\n",
        "        self.map = {}\n",
        "        self.buildMap()\n",
        "\n",
        "    def buildMap(self):\n",
        "        for bow_i in self.bowArray:\n",
        "            if not bow_i.isEmpty():\n",
        "                id_i = bow_i.hashID()\n",
        "                self.map[id_i] = [bow_i,]\n",
        "                for bow_j in self.bowArray:\n",
        "                    if not bow_j.isEmpty():\n",
        "                        id_j = bow_j.hashID()\n",
        "                        if id_i  != id_j:\n",
        "                            self.map[id_i].append(bow_j)\n",
        "\n",
        "    def add(self, bow0, bow1):\n",
        "        id_0 = bow0.hashID()\n",
        "        if self.map[id_0] != None:\n",
        "            self.map[id_0] = []\n",
        "        self.map[id_0].append(bow1)\n",
        "\n",
        "    def get(self, bow0):\n",
        "        id_0 = bow0.hashID()\n",
        "        return self.map[id_0]\n",
        "\n",
        "    def printMap(self):\n",
        "        s = \"\"\n",
        "        for bow_id_i in self.map.keys():\n",
        "            s += f'{bow_id_i} --> ['\n",
        "            for bow_j in self.map[bow_id_i]:\n",
        "                bow_id_j = bow_j.hashID()\n",
        "                s += f'{bow_id_j}, '\n",
        "            s += f'],\\n'\n",
        "        print(s)\n"
      ],
      "metadata": {
        "id": "7LZQn9k7VxoG"
      },
      "execution_count": null,
      "outputs": []
    },
    {
      "cell_type": "markdown",
      "source": [
        "\n",
        "\n",
        "---\n",
        "\n",
        "============================================= VISUAL CORTICES ===================================="
      ],
      "metadata": {
        "id": "ozpC7Yt1vyYw"
      }
    },
    {
      "cell_type": "code",
      "source": [
        "def getFeatures(imgName0):\n",
        "\n",
        "    img_array = cv2.imread(imgName0, cv2.IMREAD_GRAYSCALE)\n",
        "    img_array = cv2.resize(img_array,(100,100))\n",
        "\n",
        "    orb = cv2.ORB_create(nfeatures=1500)\n",
        "\n",
        "    keypoints, descriptors = orb.detectAndCompute(img_array, None)\n",
        "    #print(f\"Num_KeyPoints -- > {len(keypoints)}\")\n",
        "\n",
        "    #img_points = cv2.drawKeypoints(img_array, keypoints, None)\n",
        "    #cv2_imshow(img_points)\n",
        "    #cv2.waitKey(0)\n",
        "    #cv2.destroyAllWindows()\n",
        "\n",
        "\n",
        "\n",
        "    return img_array,keypointsskY"
      ],
      "metadata": {
        "id": "Kf1n5t1CAhrL"
      },
      "execution_count": null,
      "outputs": []
    },
    {
      "cell_type": "code",
      "source": [
        "def getImgData(imgName0):\n",
        "    img_array = cv2.imread(imgName0, cv2.IMREAD_COLOR)\n",
        "    img_array = cv2.resize(img_array,(100,100))\n",
        "\n",
        "    return img_array"
      ],
      "metadata": {
        "id": "P-C0skFCyINz"
      },
      "execution_count": null,
      "outputs": []
    },
    {
      "cell_type": "code",
      "source": [
        "def getFeaturesColorBased(img0):\n",
        "    img0 = cv2.cvtColor(img0, cv2.COLOR_BGR2HSV)\n",
        "    (H,S,V) = cv2.split(img0)\n",
        "\n",
        "    H_thresh = cv2.adaptiveThreshold(H,255,cv2.ADAPTIVE_THRESH_GAUSSIAN_C, cv2.THRESH_BINARY_INV,11,2)\n",
        "    S_thresh = cv2.adaptiveThreshold(S,255,cv2.ADAPTIVE_THRESH_GAUSSIAN_C, cv2.THRESH_BINARY_INV,11,2)\n",
        "    V_thresh = cv2.adaptiveThreshold(V,255,cv2.ADAPTIVE_THRESH_GAUSSIAN_C, cv2.THRESH_BINARY_INV,11,2)\n",
        "\n",
        "    img0 = cv2.cvtColor(img0,cv2.COLOR_HSV2BGR)\n",
        "    (B,G,R) = cv2.split(img0)\n",
        "\n",
        "    B_thresh = cv2.adaptiveThreshold(B,255,cv2.ADAPTIVE_THRESH_GAUSSIAN_C, cv2.THRESH_BINARY_INV,11,2)\n",
        "    G_thresh = cv2.adaptiveThreshold(G,255,cv2.ADAPTIVE_THRESH_GAUSSIAN_C, cv2.THRESH_BINARY_INV,11,2)\n",
        "    R_thresh = cv2.adaptiveThreshold(R,255,cv2.ADAPTIVE_THRESH_GAUSSIAN_C, cv2.THRESH_BINARY_INV,11,2)\n",
        "\n",
        "    img0 = cv2.cvtColor(img0,cv2.COLOR_BGR2LAB)\n",
        "    (L,A,BB) = cv2.split(img0)\n",
        "\n",
        "    L_thresh = cv2.adaptiveThreshold(L,255,cv2.ADAPTIVE_THRESH_GAUSSIAN_C, cv2.THRESH_BINARY_INV,11,2)\n",
        "    A_thresh = cv2.adaptiveThreshold(A,255,cv2.ADAPTIVE_THRESH_GAUSSIAN_C, cv2.THRESH_BINARY_INV,11,2)\n",
        "    BB_thresh = cv2.adaptiveThreshold(BB,255,cv2.ADAPTIVE_THRESH_GAUSSIAN_C, cv2.THRESH_BINARY_INV,11,2)\n",
        "\n",
        "    img0 = cv2.cvtColor(img0,cv2.COLOR_LAB2BGR)\n",
        "    img0 = cv2.cvtColor(img0,cv2.COLOR_BGR2YCrCb)\n",
        "    (Y,Cr,Cy) = cv2.split(img0)\n",
        "\n",
        "    Y_thresh = cv2.adaptiveThreshold(Y,255,cv2.ADAPTIVE_THRESH_GAUSSIAN_C, cv2.THRESH_BINARY_INV,11,2)\n",
        "    Cr_thresh = cv2.adaptiveThreshold(Cr,255,cv2.ADAPTIVE_THRESH_GAUSSIAN_C, cv2.THRESH_BINARY_INV,11,2)\n",
        "    Cy_thresh = cv2.adaptiveThreshold(Cy,255,cv2.ADAPTIVE_THRESH_GAUSSIAN_C, cv2.THRESH_BINARY_INV,11,2)\n",
        "\n",
        "    return {\n",
        "        'H': H_thresh,\n",
        "        'S': S_thresh,\n",
        "        'V': V_thresh,\n",
        "        'B': B_thresh,\n",
        "        'G': G_thresh,\n",
        "        'R': R_thresh,\n",
        "        'L': L_thresh,\n",
        "        'A': A_thresh,\n",
        "        'BB': BB_thresh,\n",
        "        'Y': Y_thresh,\n",
        "        'Cr': Cr_thresh,\n",
        "        'Cy': Cy_thresh\n",
        "        }"
      ],
      "metadata": {
        "id": "qEXkyEHH1V0v"
      },
      "execution_count": null,
      "outputs": []
    },
    {
      "cell_type": "code",
      "source": [
        "def getFeaturesRetinaBased(img0,name0=\"NAME\"):\n",
        "\n",
        "    retina = cv2.bioinspired_Retina.create((img0.shape[1], img0.shape[0]))\n",
        "    retina.write('Test_Data/retinaParams.xml')\n",
        "    retina.setup('Test_Data/retinaParams.xml')\n",
        "    retina.run(img0)\n",
        "    parvo = retina.getParvo()\n",
        "    magno = retina.getMagno()\n",
        "    parvo = cv2.cvtColor(parvo,cv2.COLOR_BGR2LAB)\n",
        "    (L,A,B) = cv2.split(parvo)\n",
        "    name1 = name0.split(\"/\")[-1][:-4]\n",
        "    #print(name1)\n",
        "\n",
        "\n",
        "    L_thresh = cv2.adaptiveThreshold(L,255,cv2.ADAPTIVE_THRESH_GAUSSIAN_C, cv2.THRESH_BINARY_INV,11,2)\n",
        "    A_thresh = cv2.adaptiveThreshold(A,255,cv2.ADAPTIVE_THRESH_GAUSSIAN_C, cv2.THRESH_BINARY_INV,11,2)\n",
        "    B_thresh = cv2.adaptiveThreshold(B,255,cv2.ADAPTIVE_THRESH_GAUSSIAN_C, cv2.THRESH_BINARY_INV,11,2)\n",
        "    M_thresh = cv2.adaptiveThreshold(magno,255,cv2.ADAPTIVE_THRESH_GAUSSIAN_C, cv2.THRESH_BINARY_INV,11,2)\n",
        "\n",
        "    if not cv2.imwrite(\"Hipp/VCC_IMG/\"+name1+\"_L\"+\".png\",L_thresh):\n",
        "        raise Exception(\"Could no write Image\")\n",
        "    if not cv2.imwrite(\"Hipp/VCC_IMG/\"+name1+\"_A\"+\".png\",A_thresh):\n",
        "        raise Exception(\"Could no write Image\")\n",
        "    if not cv2.imwrite(\"Hipp/VCC_IMG/\"+name1+\"_B\"+\".png\",B_thresh):\n",
        "        raise Exception(\"Could no write Image\")\n",
        "    if not cv2.imwrite(\"Hipp/VCC_IMG/\"+name1+\"_M\"+\".png\",M_thresh):\n",
        "        raise Exception(\"Could no write Image\")\n",
        "\n",
        "\n",
        "    return {'L': L_thresh, 'A': A_thresh, 'B': B_thresh, 'M': M_thresh}"
      ],
      "metadata": {
        "id": "2LVouWEj0MrE"
      },
      "execution_count": null,
      "outputs": []
    },
    {
      "cell_type": "code",
      "source": [
        "class FeatureMatrix:\n",
        "    def __init__(self,size0=(100,100), rawMatrix0=np.array([0]), symbol0=None, name0=None,pos0=(-1,-1)):\n",
        "        self.symbol = symbol0\n",
        "        self.size = size0\n",
        "        self.matrix = rawMatrix0.astype(np.bool_) #np.zeros(self.size,dtype=np.bool_)\n",
        "        self.name = name0\n",
        "        self.pos = pos0\n",
        "        pass\n",
        "\n",
        "    def subMatrix(self, roi=ROI()):\n",
        "        return FeatureMatrix(size0=roi.size,rawMatrix0=self.matrix[roi.y()[0]:roi.y()[1],roi.x()[0]:roi.x()[1]],symbol0=self.symbol,name0=self.name,pos0=roi.origin)\n",
        "\n",
        "    def __str__(self):\n",
        "        s = \"\"\n",
        "        for pt in self.matrix:\n",
        "            s += str(pt)\n",
        "            s += '\\n'\n",
        "        return s\n",
        "\n",
        "    def printMatrix(self):\n",
        "        s = \"\"\n",
        "        if not np.any(self.matrix):\n",
        "            s += \"[EMPTY]\"\n",
        "        else:\n",
        "            s += \"[\"\n",
        "            for row in self.matrix:\n",
        "                s += \"[\"\n",
        "                for pt in row:\n",
        "                    if pt:\n",
        "                        s += \"1\"\n",
        "                    else:\n",
        "                        s += \"0\"\n",
        "                s += \"],\\n\"\n",
        "            s += \"]\"\n",
        "        print(s)"
      ],
      "metadata": {
        "id": "gRiOxvWfXYTz"
      },
      "execution_count": null,
      "outputs": []
    },
    {
      "cell_type": "code",
      "source": [
        "def getDataNames(directory0, ext0=\"png\"):\n",
        "    imgs = []\n",
        "    aux = []\n",
        "    for root, dirs, files in os.walk(\"/content/\"+directory0, topdown=True):\n",
        "        for file in files:\n",
        "            if file.split(\".\")[-1] == ext0:\n",
        "                aux.append(os.path.join(root,file))\n",
        "        imgs += aux\n",
        "        aux = []\n",
        "    return imgs"
      ],
      "metadata": {
        "id": "1iuqWB0rVu2R"
      },
      "execution_count": null,
      "outputs": []
    },
    {
      "cell_type": "code",
      "source": [
        "def getData(data_img0,save0=\"Hipp/VCC/\"):\n",
        "\n",
        "    #print(data_img)\n",
        "    data = {}\n",
        "\n",
        "    for img_name in data_img0:\n",
        "        #print(img_name)\n",
        "        bin = []\n",
        "        img_array = getFeaturesRetinaBased(getImgData(img_name),name0=img_name)\n",
        "        for ch in img_array.keys():\n",
        "            bin.append(FeatureMatrix(rawMatrix0=img_array[ch],symbol0=ch, name0=img_name.split(\"/\")[-1][:-4]))\n",
        "            #bin[-1].printMatrix()\n",
        "        data[img_name] = bin\n",
        "\n",
        "    for s in data.keys():\n",
        "        #print(s)\n",
        "        save(data[s],os.path.join(save0,s.split(\"/\")[-1][:-4]))\n",
        "\n"
      ],
      "metadata": {
        "id": "M7gCJpIdE5EJ"
      },
      "execution_count": null,
      "outputs": []
    },
    {
      "cell_type": "code",
      "source": [
        "data_img = getDataNames(\"Test_Data/Cocina_1\")\n",
        "getData(data_img)"
      ],
      "metadata": {
        "id": "2EmTv0pNukYt"
      },
      "execution_count": null,
      "outputs": []
    },
    {
      "cell_type": "code",
      "source": [
        "!rm -rf Hipp/VCC_IMG/*"
      ],
      "metadata": {
        "id": "ENNJNM5DQAmN"
      },
      "execution_count": null,
      "outputs": []
    },
    {
      "cell_type": "markdown",
      "source": [
        "----------------TEST OBJECTS-----------------"
      ],
      "metadata": {
        "id": "pi94SfLbdVzn"
      }
    },
    {
      "cell_type": "code",
      "source": [
        "class PCD():\n",
        "    def __init__(self,img0,img_name0):\n",
        "        self.img = img0\n",
        "        self.shape = self.img.shape\n",
        "        self.img_name = img_name0\n",
        "        self.PCD_Bundle = {}\n",
        "        self.getPCDs()\n",
        "\n",
        "    def savePCDs(self,dir0):\n",
        "        for level in self.PCD_Bundle.keys():\n",
        "            name = \"PCD_\"+self.img_name.split(\"/\")[-1].split(\".\")[0]+\"_\"+str(level)+\".\"+self.img_name.split(\"/\")[-1].split(\".\")[1] #os.path.join(dir0,\"PCD_\"+self.img_name.split(\"/\")[-1]+\"_\"+str(level))\n",
        "            path = os.path.join(dir0,name)\n",
        "            print(path)\n",
        "            if not cv2.imwrite(path,self.PCD_Bundle[level]):\n",
        "                raise Exception(\"Could no write Image\")\n",
        "\n",
        "    def getPCDs(self,levelArray0=[50,25,20,10,5,4,2,1]):\n",
        "        for level in levelArray0:\n",
        "            if level > 1:\n",
        "                self.PCD_Bundle[level] = self.convertToPCD(level)\n",
        "            else:\n",
        "                self.PCD_Bundle[level] = self.img.copy()\n",
        "\n",
        "    def convertToPCD(self,level0):\n",
        "        pcd_img = np.zeros(self.shape)\n",
        "        grid = GridMask(sizeXY0=(int(self.img.shape[0]/level0),int(self.img.shape[1]/level0)),sizeOverall0=self.img.shape)\n",
        "        for mask in grid.mask():\n",
        "            sub_matrix = self.img[mask.y()[0]:mask.y()[1],mask.x()[0]:mask.x()[1],:]\n",
        "            av_arr = (np.average(sub_matrix[:,:,0]),np.average(sub_matrix[:,:,1]),np.average(sub_matrix[:,:,2]))\n",
        "            for ch in range(self.shape[2]):\n",
        "                for i in range(mask.x()[0],mask.x()[1]+1):\n",
        "                    for j in range(mask.y()[0],mask.y()[1]+1):\n",
        "                        pcd_img[j,i,ch] = av_arr[ch]\n",
        "        return pcd_img\n",
        "\n",
        "\n",
        "    def _convertToPCD(self,level0):\n",
        "        size = self.img.shape[0]\n",
        "        factor = (size-(level0-1))/size #(100-(100-1))/100\n",
        "        small_size = (int(size*factor),int(size*factor))\n",
        "        interpolation = cv2.INTER_NEAREST\n",
        "        small_img = cv2.resize(self.img,small_size,interpolation)\n",
        "        normal_size = (size,size)\n",
        "        normal_img = cv2.resize(small_img,normal_size,interpolation)\n",
        "        return normal_img\n",
        "\n"
      ],
      "metadata": {
        "id": "qXsEyZU9O5KO"
      },
      "execution_count": null,
      "outputs": []
    },
    {
      "cell_type": "code",
      "source": [
        "for img_name in data_img:\n",
        "    pcd = PCD(getImgData(img_name),img_name)\n",
        "    pcd.savePCDs(\"/content/Test_Data/PCD_Objects\")\n",
        "\n"
      ],
      "metadata": {
        "id": "0r4mgg8qdU9i"
      },
      "execution_count": null,
      "outputs": []
    },
    {
      "cell_type": "code",
      "source": [
        "!zip -r Test_Data/PCD_Objects.zip Test_Data/PCD_Objects/"
      ],
      "metadata": {
        "id": "JIx-1dgppJKW"
      },
      "execution_count": null,
      "outputs": []
    },
    {
      "cell_type": "code",
      "source": [
        "!rm Test_Data/PCD_Objects/*"
      ],
      "metadata": {
        "id": "AncTOb5u1aCE"
      },
      "execution_count": null,
      "outputs": []
    },
    {
      "cell_type": "code",
      "source": [
        "data_img = getDataNames(\"Test_Data/PCD_Objects\")\n",
        "getData(data_img,save0=\"Hipp/VCC_Test\")"
      ],
      "metadata": {
        "id": "9WaCA-SNrTbx"
      },
      "execution_count": null,
      "outputs": []
    },
    {
      "cell_type": "markdown",
      "source": [
        "\n",
        "\n",
        "---\n",
        "\n",
        "\n",
        "\n",
        "======================================================= LOC ========================================================"
      ],
      "metadata": {
        "id": "ZAp8imLEppdu"
      }
    },
    {
      "cell_type": "code",
      "source": [
        "def getVccData(dir0):\n",
        "    filenames = os.listdir(dir0)\n",
        "    data = {}\n",
        "    for filename in filenames:\n",
        "        data[filename] = load(os.path.join(dir0,filename))\n",
        "    return data\n",
        "\n",
        "def LOC_buildBOWs(data0,partitionSize0=(20,20)):\n",
        "    partitionSize = partitionSize0\n",
        "    multiMatrix = {}\n",
        "    bags = {}\n",
        "    mask = GridMask(sizeOverall0=next(iter(data0.values()))[-1].size,sizeXY0=partitionSize)\n",
        "    for s in data0.keys():\n",
        "        bags[s] = []\n",
        "        multiMatrix[s] = []\n",
        "        for roi in mask.mask():\n",
        "            #print(f'({roi.y()}, {roi.x()})')\n",
        "            multiMatrix[s].append([])\n",
        "            for ch in range(len(data0[s])):\n",
        "                multiMatrix[s][-1].append(data0[s][ch].subMatrix(roi))\n",
        "                #multiMatrix[s][-1][-1].printMatrix()\n",
        "        for subMatrix in multiMatrix[s]:\n",
        "            bags[s].append(BagOfWords(featureArray0=subMatrix))\n",
        "            #bags[s][-1].printCodebook()\n",
        "    return bags\n",
        "\n",
        "def LOC_buildAdj(bags0,size0=(20,20)):\n",
        "\n",
        "    adjH = {}\n",
        "    adjV = {}\n",
        "\n",
        "    for s in bags0.keys():\n",
        "        adjH[s] = AdjMatrixH(bows1=bags0[s],size1=size0,numSymbols1=bags0[s][0].size())\n",
        "        adjV[s] = AdjMatrixV(bows1=bags0[s],size1=size0,numSymbols1=bags0[s][0].size())\n",
        "        #print(s)\n",
        "        #adjV[s].printID()\n",
        "        #adjH[s].printAdj()\n",
        "        #print(np.count_nonzero(adjH[s].figureID))\n",
        "    return adjH,adjV\n",
        "\n"
      ],
      "metadata": {
        "id": "FNV-tx8BScNU"
      },
      "execution_count": null,
      "outputs": []
    },
    {
      "cell_type": "code",
      "source": [
        "del VCC_Data\n",
        "del LOC_bags\n",
        "del LOC_adjH\n",
        "del LOC_adjV\n",
        "VCC_Data = getVccData(\"Hipp/VCC\")\n",
        "LOC_bags = LOC_buildBOWs(VCC_Data)\n",
        "LOC_adjH,LOC_adjV = LOC_buildAdj(LOC_bags)"
      ],
      "metadata": {
        "id": "VG-yqWo8NNo9"
      },
      "execution_count": null,
      "outputs": []
    },
    {
      "cell_type": "code",
      "source": [
        "for s in VCC_Data.keys():\n",
        "    cv2.imwrite(\"Hipp/VCC_IMG/\"+s+\".png\",VCC_Data[s][2].matrix*255)"
      ],
      "metadata": {
        "id": "bPDgZ84s3dTa"
      },
      "execution_count": null,
      "outputs": []
    },
    {
      "cell_type": "markdown",
      "source": [
        "----------------TEST OBJECTS-----------------"
      ],
      "metadata": {
        "id": "eZnvhjTYrWi5"
      }
    },
    {
      "cell_type": "code",
      "source": [
        "del VCC_Data_Test\n",
        "del LOC_bags_Test\n",
        "del LOC_adjH_Test\n",
        "del LOC_adjV_Test\n",
        "VCC_Data_Test = getVccData(\"Hipp/VCC_Test\")\n",
        "LOC_bags_Test = LOC_buildBOWs(VCC_Data_Test)\n",
        "LOC_adjH_Test,LOC_adjV_Test = LOC_buildAdj(LOC_bags_Test)"
      ],
      "metadata": {
        "id": "qI8puDzPMWS9"
      },
      "execution_count": null,
      "outputs": []
    },
    {
      "cell_type": "markdown",
      "source": [
        "----------------TEST MATCH-----------------"
      ],
      "metadata": {
        "id": "Z1WrkaJ63QAw"
      }
    },
    {
      "cell_type": "code",
      "source": [
        "res_arr = {}\n",
        "for pcd_s in LOC_adjH_Test.keys():\n",
        "    res_arr[pcd_s] = {}\n",
        "    pcd_adjH_id = LOC_adjH_Test[pcd_s].assignID()\n",
        "    pcd_adjV_id = LOC_adjV_Test[pcd_s].assignID()\n",
        "    #print(pcd_adjH_id)\n",
        "    for s in LOC_adjH.keys():\n",
        "        c_adjH_id = LOC_adjH[s].assignID()\n",
        "        c_adjV_id = LOC_adjV[s].assignID()\n",
        "        normH = np.linalg.norm(pcd_adjH_id-c_adjH_id)\n",
        "        normV = np.linalg.norm(pcd_adjV_id-c_adjV_id)\n",
        "        res_arr[pcd_s][s] = np.linalg.norm((normH+normV)/2)\n",
        "\n"
      ],
      "metadata": {
        "id": "Q0L_ld93TLin"
      },
      "execution_count": null,
      "outputs": []
    },
    {
      "cell_type": "code",
      "source": [
        "for pcd_s in res_arr.keys():\n",
        "    print(max(list(res_arr[pcd_s].values())))\n",
        "    #for s in res_arr[pcd_s].keys():\n"
      ],
      "metadata": {
        "id": "zq65ke8HobXR"
      },
      "execution_count": null,
      "outputs": []
    },
    {
      "cell_type": "code",
      "source": [
        "df_Test = pd.DataFrame(columns=['Object',1,2,4,5,10,20,25,50])"
      ],
      "metadata": {
        "id": "GWY3DdmxDriY"
      },
      "execution_count": null,
      "outputs": []
    },
    {
      "cell_type": "code",
      "source": [
        "def getValuesManual(res_arr0,s0,level0,mean={},test_names=[]):\n",
        "    values = []\n",
        "    for s_aux in res_arr0[\"PCD_\"+s0+\"_\"+str(level0)].keys():\n",
        "        this_val = res_arr0[\"PCD_\"+s0+\"_\"+str(level0)][s_aux]\n",
        "        #print(\"Val\"+str(this_val))\n",
        "        if s_aux in test_names:\n",
        "            if mean:\n",
        "                #print(mean)\n",
        "                this_val -= mean[s_aux][level0]*1\n",
        "        else:\n",
        "            this_val += 0\n",
        "        values.append(this_val)\n",
        "    return values\n",
        "\n",
        "def getValuesAuto(res_arr0,s0,level0):\n",
        "    return list(res_arr0[\"PCD_\"+s0+\"_\"+str(level0)].values())\n",
        "\n",
        "for test in names_test.keys():\n",
        "    levels = [50,25,20,10,5,4,2,1]\n",
        "    sd = {}\n",
        "    mean = {}\n",
        "    for s in res_arr['PCD_D_Cocina_1_Escurridor_1_1'].keys():\n",
        "        sd[s] = {}\n",
        "        mean[s] = {}\n",
        "        for level in levels:\n",
        "            max_count = 0\n",
        "            max_values = []\n",
        "            values = getValuesManual(res_arr,s,level,mean2,names_test[test])\n",
        "            mean[s][level] = st.mean(values)\n",
        "            #print(f\"MEAN: {median}\")\n",
        "            for val in values:\n",
        "                if val <= mean[s][level]:\n",
        "                    max_count += 1\n",
        "                    max_values.append(val)\n",
        "            #if len(max_values) == 1:\n",
        "            #    sd[s][level] = 0\n",
        "            #elif len(max_values) == 0:\n",
        "            #    sd[s][level] = -1\n",
        "            #else:\n",
        "            sd[s][level] = max_count#/np.std(np.array(max_values)) #max_count\n",
        "    #mean2 = mean.copy()\n",
        "\n",
        "    df_Test.loc[len(df_Test.index)] = [test]+[sd[test][v] for v in levels[::-1]]\n",
        "\n",
        "\n",
        "print(df_Test)\n",
        "\n"
      ],
      "metadata": {
        "id": "wvRmoikngB_4",
        "colab": {
          "base_uri": "https://localhost:8080/"
        },
        "outputId": "78c0f03a-c5b1-4f48-ab8d-8415ba0424ac"
      },
      "execution_count": null,
      "outputs": [
        {
          "output_type": "stream",
          "name": "stdout",
          "text": [
            "                    Object   1   2   4   5  10  20  25  50\n",
            "0      D_Cocina_1_Tetera_1   4   5   5   5   8   9   8  10\n",
            "1    F_Cocina_1_Gabinete_1  11  13  13  12  14  14  13  15\n",
            "2    F_Cocina_1_Gabinete_9   7   7   7   7   7   8   8  11\n",
            "3      D_Cocina_1_Sarten_1   8   8   8   8   8   8   7   9\n",
            "4    F_Cocina_1_Gabinete_2   9   9   9   8   8   9   8  10\n",
            "5   F_Cocina_1_Extractor_1   8   8   8   7   7   5   8  11\n",
            "6    D_Cocina_1_Parrilla_1   4   4   8   5   7   9   8  12\n",
            "7      D_Cocina_1_Sarten_2   6   6   6   6   7   9   6  11\n",
            "8    F_Cocina_1_Gabinete_3  10  10  10  11  11  10   7  11\n",
            "9    F_Cocina_1_Gabinete_8   9  12  13  11  10  12  12  13\n",
            "10    D_Cocina_1_Manzana_1   4   4   3   4   3   4   6  12\n",
            "11     F_Cocina_1_Estufa_1   3   4   6   9  12  13  12  13\n",
            "12   F_Cocina_1_Gabinete_7  11  11  11  11  11  11  11  11\n",
            "13      F_Cocina_1_Refri_1  13  13  13  13  11  11  11  11\n",
            "14   F_Cocina_1_Gabinete_6  12  12  14  13  15  16  13  15\n",
            "15   F_Cocina_1_Gabinete_5   7   9   9   9   9   9  10   9\n",
            "16        D_Cocina_1_Pan_1   5   6   6   5   5   6   6  12\n",
            "17   F_Cocina_1_Gabinete_4  10  10  10  11  12  13  12  12\n"
          ]
        }
      ]
    },
    {
      "cell_type": "code",
      "source": [
        "row_mean = df_Test.mean()\n",
        "print(df_Test.mean())\n",
        "row_mean['Object'] = 'Mean'\n",
        "df_Test.loc[len(df_Test)]= row_mean\n",
        "row_var = df_Test.var()\n",
        "row_var['Object'] = 'Variance'\n",
        "df_Test.loc[len(df_Test)]= row_var\n",
        "df_Test.to_csv('Data_Out/objects_vs_pcdLevel_Test.csv', index=False)"
      ],
      "metadata": {
        "colab": {
          "base_uri": "https://localhost:8080/"
        },
        "id": "wfZPjVH8J1MN",
        "outputId": "330c9db5-a125-48c3-e7a7-e18c4c2a1f78"
      },
      "execution_count": null,
      "outputs": [
        {
          "output_type": "stream",
          "name": "stdout",
          "text": [
            "1      7.833333\n",
            "2      8.388889\n",
            "4      8.833333\n",
            "5      8.611111\n",
            "10     9.166667\n",
            "20     9.777778\n",
            "25     9.222222\n",
            "50    11.555556\n",
            "dtype: float64\n"
          ]
        },
        {
          "output_type": "stream",
          "name": "stderr",
          "text": [
            "<ipython-input-378-aab90e25fd12>:1: FutureWarning: The default value of numeric_only in DataFrame.mean is deprecated. In a future version, it will default to False. In addition, specifying 'numeric_only=None' is deprecated. Select only valid columns or specify the value of numeric_only to silence this warning.\n",
            "  row_mean = df_Test.mean()\n",
            "<ipython-input-378-aab90e25fd12>:2: FutureWarning: The default value of numeric_only in DataFrame.mean is deprecated. In a future version, it will default to False. In addition, specifying 'numeric_only=None' is deprecated. Select only valid columns or specify the value of numeric_only to silence this warning.\n",
            "  print(df_Test.mean())\n",
            "<ipython-input-378-aab90e25fd12>:5: FutureWarning: The default value of numeric_only in DataFrame.var is deprecated. In a future version, it will default to False. In addition, specifying 'numeric_only=None' is deprecated. Select only valid columns or specify the value of numeric_only to silence this warning.\n",
            "  row_var = df_Test.var()\n"
          ]
        }
      ]
    },
    {
      "cell_type": "code",
      "source": [
        "this_level = 10\n",
        "values = [sd[x][this_level] for x in sd.keys()]\n",
        "print(values)\n",
        "values.sort(reverse=False)\n",
        "values = [l for l in values if l > 0]\n",
        "print(values)\n",
        "min_vals = [y for y in sd.keys() if sd[y][this_level] in values ]\n",
        "\n",
        "for s in min_vals:#sd.keys():\n",
        "    for lvl in levels:\n",
        "        if lvl == this_level:\n",
        "            print(f'{s} - LVL:{lvl} --> sd: {sd[s][lvl]}')"
      ],
      "metadata": {
        "id": "WGOnSGNYIhQF"
      },
      "execution_count": null,
      "outputs": []
    },
    {
      "cell_type": "code",
      "source": [
        "def convertToDataArray(data0):\n",
        "    data_array = []\n",
        "    av = {}\n",
        "    for obj in data0.keys():\n",
        "        data_dir = {}\n",
        "        data_dir[\"Object\"] = obj\n",
        "        last_val = 0\n",
        "        if type(data0[obj]) is type(dict()):\n",
        "            for level in levels[::-1]:\n",
        "                if str(level) not in av.keys():\n",
        "                    av[str(level)] = []\n",
        "                av[str(level)] = []\n",
        "                data_dir[str(level)] = data0[obj][level]\n",
        "                if data_dir[str(level)] <= 0:\n",
        "                    data_dir[str(level)] = last_val\n",
        "                last_val = data_dir[str(level)]\n",
        "                av[str(level)].append(last_val)\n",
        "\n",
        "            data_array.append(data_dir)\n",
        "    for level in av.keys():\n",
        "        av_arr = np.array(av[level])\n",
        "        av[level] = np.average(av_arr)\n",
        "    data_array.append(av)\n",
        "    return data_array"
      ],
      "metadata": {
        "id": "22n_lnpB-iuo"
      },
      "execution_count": null,
      "outputs": []
    },
    {
      "cell_type": "code",
      "source": [
        "def getObjectFromDataArray(data0,name0):\n",
        "    gotData = []\n",
        "    for data_i in data0:\n",
        "        if \"Object\" in data_i.keys():\n",
        "            #print(data_i[\"Object\"])\n",
        "            if data_i[\"Object\"] == name0:\n",
        "                gotData.append(data_i)\n",
        "\n",
        "    return gotData\n",
        "\n"
      ],
      "metadata": {
        "id": "KFNpDMhCNP70"
      },
      "execution_count": null,
      "outputs": []
    },
    {
      "cell_type": "code",
      "source": [
        "df = pd.DataFrame(convertToDataArray(sd))[:-1]\n",
        "df = df.loc[df['Object'].isin(['D_Cocina_1_Tetera_1', 'F_Cocina_1_Gabinete_1', 'F_Cocina_1_Gabinete_9', 'D_Cocina_1_Sarten_1', 'F_Cocina_1_Gabinete_2', 'F_Cocina_1_Extractor_1', 'D_Cocina_1_Parrilla_1', 'D_Cocina_1_Sarten_2', 'F_Cocina_1_Gabinete_3', 'F_Cocina_1_Gabinete_8', 'D_Cocina_1_Manzana_1', 'F_Cocina_1_Estufa_1', 'F_Cocina_1_Gabinete_7', 'F_Cocina_1_Refri_1', 'F_Cocina_1_Gabinete_6', 'F_Cocina_1_Gabinete_5', 'D_Cocina_1_Pan_1', 'F_Cocina_1_Gabinete_4'])]\n",
        "row_mean = df.mean()\n",
        "print(df.mean())\n",
        "row_mean['Object'] = 'Mean'\n",
        "df.loc[len(df)]= row_mean\n",
        "row_var = df.var()\n",
        "row_var['Object'] = 'Variance'\n",
        "df.loc[len(df)]= row_var\n",
        "df.to_csv('Data_Out/objects_vs_pcdLevel.csv', index=False)"
      ],
      "metadata": {
        "id": "-QLOvuoZMNQw",
        "colab": {
          "base_uri": "https://localhost:8080/"
        },
        "outputId": "707d780c-ff4b-40aa-bdf0-e412b031781e"
      },
      "execution_count": null,
      "outputs": [
        {
          "output_type": "stream",
          "name": "stdout",
          "text": [
            "1     14.000000\n",
            "2     16.166667\n",
            "4     16.944444\n",
            "5     17.000000\n",
            "10    18.000000\n",
            "20    19.888889\n",
            "25    19.555556\n",
            "50    18.111111\n",
            "dtype: float64\n"
          ]
        },
        {
          "output_type": "stream",
          "name": "stderr",
          "text": [
            "<ipython-input-340-f9f632e18419>:3: FutureWarning: The default value of numeric_only in DataFrame.mean is deprecated. In a future version, it will default to False. In addition, specifying 'numeric_only=None' is deprecated. Select only valid columns or specify the value of numeric_only to silence this warning.\n",
            "  row_mean = df.mean()\n",
            "<ipython-input-340-f9f632e18419>:4: FutureWarning: The default value of numeric_only in DataFrame.mean is deprecated. In a future version, it will default to False. In addition, specifying 'numeric_only=None' is deprecated. Select only valid columns or specify the value of numeric_only to silence this warning.\n",
            "  print(df.mean())\n",
            "<ipython-input-340-f9f632e18419>:7: FutureWarning: The default value of numeric_only in DataFrame.var is deprecated. In a future version, it will default to False. In addition, specifying 'numeric_only=None' is deprecated. Select only valid columns or specify the value of numeric_only to silence this warning.\n",
            "  row_var = df.var()\n"
          ]
        }
      ]
    },
    {
      "cell_type": "code",
      "source": [
        "\n",
        "pd.DataFrame(\n",
        "    getObjectFromDataArray(\n",
        "        convertToDataArray(sd)\n",
        "        ,name0=\"D_Cocina_1_Licuadora_1\"\n",
        "        )\n",
        "        ).to_csv('Data_Out/Test_PCD_Object_Blender.csv', index=False)\n"
      ],
      "metadata": {
        "id": "iqCRSBqoNI7t"
      },
      "execution_count": null,
      "outputs": []
    },
    {
      "cell_type": "markdown",
      "source": [
        "\n",
        "\n",
        "---\n",
        "\n",
        "\n",
        "\n",
        "======================================================= TOS ========================================================"
      ],
      "metadata": {
        "id": "sduJhCh3nG-V"
      }
    },
    {
      "cell_type": "code",
      "source": [
        "class SceneMap:\n",
        "    def __init__(self,name0=\"Test_Data/Scenes\"):\n",
        "        self.nameMap = [\n",
        "            'F_Cocina_1_Gabinete_1',    #1\n",
        "            'F_Cocina_1_Gabinete_2',    #2\n",
        "            'F_Cocina_1_Gabinete_3',    #3\n",
        "            'F_Cocina_1_Gabinete_4',    #4\n",
        "            'F_Cocina_1_Gabinete_5',    #5\n",
        "            'F_Cocina_1_Gabinete_6',    #6\n",
        "            'F_Cocina_1_Gabinete_7',    #7\n",
        "            'F_Cocina_1_Gabinete_8',    #8\n",
        "            'F_Cocina_1_Gabinete_9',    #9\n",
        "            'F_Cocina_1_Extractor_1',   #10\n",
        "            'F_Cocina_1_Extractor_2',   #11\n",
        "            'F_Cocina_1_Extractor_3',   #12\n",
        "            'F_Cocina_1_Estufa_1',      #13\n",
        "            'F_Cocina_1_Estufa_2',      #14\n",
        "            'F_Cocina_1_Estufa_3',      #15\n",
        "            'F_Cocina_1_Refri_1',       #16\n",
        "            'F_Cocina_1_Refri_2',       #17\n",
        "            'F_Cocina_1_Refri_3',       #18\n",
        "            'D_Cocina_1_Sarten_1',      #19\n",
        "            'D_Cocina_1_Sarten_2',      #20\n",
        "            'D_Cocina_1_Sarten_3',      #21\n",
        "            'D_Cocina_1_Manzana_1',     #22\n",
        "            'D_Cocina_1_Manzana_2',     #23\n",
        "            'D_Cocina_1_Manzana_4',     #24\n",
        "            'D_Cocina_1_Parrilla_1',    #25\n",
        "            'D_Cocina_1_Pan_1',         #26\n",
        "            'D_Cocina_1_Tetera_1',      #27\n",
        "            'D_Cocina_1_Tetera_2',      #28\n",
        "            'D_Cocina_1_Licuadora_1',   #29\n",
        "            'D_Cocina_1_Licuadora_2',   #30\n",
        "            'D_Cocina_1_Llave_1',       #31\n",
        "            'D_Cocina_1_Escurridor_1',  #32\n",
        "            'D_Cocina_1_Micro_1'        #33\n",
        "        ]\n",
        "        self.scenes = {}\n",
        "        self.getScences(name0)\n",
        "\n",
        "    def getScences(self,name1):\n",
        "        for f in os.listdir(name1):\n",
        "            if f.split(\".\")[-1] == \"csv\":\n",
        "                csvFile = open(os.path.join(name1,f))\n",
        "                #print(csvFile.read())\n",
        "                sceneArray = np.loadtxt(csvFile,delimiter=\",\").astype(np.int_)\n",
        "                self.scenes[f] = sceneArray\n",
        "\n",
        "    def getBOWs(self, data,partitionSize0 = (20,20)):\n",
        "        bags = {}\n",
        "        mask = GridMask(sizeOverall0=next(iter(data.values()))[-1].size,sizeXY0=partitionSize0)\n",
        "        for s in self.scenes.keys():\n",
        "            bags[s] = []\n",
        "            shape = self.scenes[s].shape\n",
        "            for i in range(shape[1]):\n",
        "                for j in range(shape[0]):\n",
        "                    if self.scenes[s][j,i] == 0:\n",
        "                        bags[s].append(BagOfWords(featureArray0=[FeatureMatrix(),],posID0=(i,j)))\n",
        "                    else:\n",
        "                        bags[s].append(BagOfWords(featureArray0=data[self.nameMap[self.scenes[s][j,i]-1]],posID0=(i,j)))\n",
        "        return bags\n",
        "\n",
        "\n"
      ],
      "metadata": {
        "id": "MI9yu2jEuaid"
      },
      "execution_count": null,
      "outputs": []
    },
    {
      "cell_type": "code",
      "source": [
        "sceneMap = SceneMap()\n",
        "bags_scenes = sceneMap.getBOWs(VCC_Data)\n",
        "for s in bags_scenes.keys():\n",
        "    print(f'{s}: ')\n",
        "    for bow in bags_scenes[s]:\n",
        "        bow.printCodebook()"
      ],
      "metadata": {
        "id": "YCxYIVPEnGul"
      },
      "execution_count": null,
      "outputs": []
    },
    {
      "cell_type": "markdown",
      "source": [
        "---------------TEST SCENES-------------"
      ],
      "metadata": {
        "id": "zW5D-j_VaxgI"
      }
    },
    {
      "cell_type": "code",
      "source": [
        "sceneMap_Test = SceneMap(name0=\"Test_Data/Scenes_Test\")\n",
        "bags_scenes_Test = sceneMap_Test.getBOWs(VCC_Data)\n",
        "for s in bags_scenes_Test.keys():\n",
        "    print(f'{s}: ')\n",
        "    for bow in bags_scenes_Test[s]:\n",
        "        bow.printCodebook()\n"
      ],
      "metadata": {
        "id": "MC1uMmtVa43x"
      },
      "execution_count": null,
      "outputs": []
    },
    {
      "cell_type": "markdown",
      "source": [
        "======================================================= PHC ========================================================"
      ],
      "metadata": {
        "id": "muVP2a0Q6CJL"
      }
    },
    {
      "cell_type": "code",
      "source": [
        "def buildSceneAdj(bags_scenes0):\n",
        "    adjH = {}\n",
        "    adjV = {}\n",
        "\n",
        "    partitionSize = (20,20)\n",
        "    for s in bags_scenes0.keys():\n",
        "        adjH[s] = AdjMatrixH(bows1=bags_scenes0[s],size1=partitionSize,numSymbols1=4)\n",
        "        adjV[s] = AdjMatrixV(bows1=bags_scenes0[s],size1=partitionSize,numSymbols1=4)\n",
        "        #print(s)\n",
        "        adjV[s].printAdj()\n",
        "        adjH[s].printAdj()\n",
        "        #print(np.count_nonzero(adjH[s].figureID))\n",
        "    return adjH,adjV"
      ],
      "metadata": {
        "id": "nEYTAXR81ztY"
      },
      "execution_count": null,
      "outputs": []
    },
    {
      "cell_type": "code",
      "source": [
        "def buildSceneConcurrency(bags_scenes0):\n",
        "    cc = {}\n",
        "\n",
        "    for s in bags_scenes0.keys():\n",
        "        cc[s] = ConcurrenceMap(bags_scenes0[s])\n",
        "        cc[s].printMap()\n",
        "    return cc"
      ],
      "metadata": {
        "id": "3ho_EYz1n9cp"
      },
      "execution_count": null,
      "outputs": []
    },
    {
      "cell_type": "code",
      "source": [
        "PHC_adjH,PHC_adjV = buildSceneAdj(bags_scenes)"
      ],
      "metadata": {
        "id": "jH_1GOpJb0UQ"
      },
      "execution_count": null,
      "outputs": []
    },
    {
      "cell_type": "code",
      "source": [
        "PHC_cc = buildSceneConcurrency(bags_scenes)"
      ],
      "metadata": {
        "id": "Yd1GEO87Ye5c"
      },
      "execution_count": null,
      "outputs": []
    },
    {
      "cell_type": "markdown",
      "source": [
        "---------------TEST SCENES ADJ-------------"
      ],
      "metadata": {
        "id": "Z2kcNXK5YnGf"
      }
    },
    {
      "cell_type": "code",
      "source": [
        "PHC_adjH_Test,PHC_adjV_Test = buildSceneAdj(bags_scenes_Test)\n"
      ],
      "metadata": {
        "id": "jc00bTyiYpw5"
      },
      "execution_count": null,
      "outputs": []
    },
    {
      "cell_type": "code",
      "source": [
        "PHC_cc_Test = buildSceneConcurrency(bags_scenes_Test)"
      ],
      "metadata": {
        "id": "h_ZfH_h7m5X8"
      },
      "execution_count": null,
      "outputs": []
    },
    {
      "cell_type": "markdown",
      "source": [
        "======================================================= RSC ========================================================"
      ],
      "metadata": {
        "id": "qQEhEnGZx_D4"
      }
    },
    {
      "cell_type": "code",
      "source": [
        "class ContextFrame:\n",
        "    def __init__(self):\n",
        "        self.map = {}\n",
        "\n",
        "    def add(self,adjSceneV0,adjSceneH0,concurrenceMap0):\n",
        "        for bow_id in concurrenceMap0.map.keys():\n",
        "            if bow_id in self.map.keys():\n",
        "                c_spaceMap = self.map[bow_id]\n",
        "                c_spaceMap['U'] = c_spaceMap['U'].union(self.getUp(adjSceneV0,concurrenceMap0.map[bow_id]))\n",
        "                c_spaceMap['D'] = c_spaceMap['D'].union(self.getDown(adjSceneV0,concurrenceMap0.map[bow_id]))\n",
        "                c_spaceMap['R'] = c_spaceMap['R'].union(self.getRight(adjSceneH0,concurrenceMap0.map[bow_id]))\n",
        "                c_spaceMap['L'] = c_spaceMap['L'].union(self.getLeft(adjSceneH0,concurrenceMap0.map[bow_id]))\n",
        "            else:\n",
        "                spaceMap = {}\n",
        "                spaceMap['U'] = self.getUp(adjSceneV0,concurrenceMap0.map[bow_id])\n",
        "                spaceMap['D'] = self.getDown(adjSceneV0,concurrenceMap0.map[bow_id])\n",
        "                spaceMap['R'] = self.getRight(adjSceneH0,concurrenceMap0.map[bow_id])\n",
        "                spaceMap['L'] = self.getLeft(adjSceneH0,concurrenceMap0.map[bow_id])\n",
        "                self.map[bow_id] = spaceMap\n",
        "            #self.printCF()\n",
        "\n",
        "    def getUp(self,adjSceneV1,concurrentBows0):\n",
        "        up = set()\n",
        "        for bow in concurrentBows0:\n",
        "            if bow.posID[1]  < concurrentBows0[0].posID[1]:\n",
        "                up.add(bow)\n",
        "        return up\n",
        "\n",
        "    def getDown(self,adjSceneV1,concurrentBows0):\n",
        "        down = set()\n",
        "        for bow in concurrentBows0:\n",
        "            if bow.posID[1]  > concurrentBows0[0].posID[1]:\n",
        "                #print(f'pos: {bow.posID[1]}, ref: {concurrentBows0[0].posID[1]}')\n",
        "                down.add(bow)\n",
        "        return down\n",
        "\n",
        "    def getRight(self,adjSceneH1,concurrentBows0):\n",
        "        right = set()\n",
        "        for bow in concurrentBows0:\n",
        "            if bow.posID[0]  > concurrentBows0[0].posID[0]:\n",
        "                right.add(bow)\n",
        "        return right\n",
        "\n",
        "    def getLeft(self,adjSceneH1,concurrentBows0):\n",
        "        left = set()\n",
        "        for bow in concurrentBows0:\n",
        "            if bow.posID[0]  < concurrentBows0[0].posID[0]:\n",
        "                left.add(bow)\n",
        "        return left\n",
        "\n",
        "    def printCF(self):\n",
        "        s = \"\"\n",
        "        print(f'LEN: {len(self.map.keys())}')\n",
        "        for bow_id in self.map.keys():\n",
        "            s += f'{bow_id}:\\n'\n",
        "            #print(self.map[bow_id])\n",
        "            for dir in self.map[bow_id].keys():\n",
        "                s += f'\\t{dir} --> ['\n",
        "                for c_bow in self.map[bow_id][dir]:\n",
        "                    s += f'{c_bow.hashID()}||{c_bow.posID}, '\n",
        "                s += ']\\n'\n",
        "        print(s)\n"
      ],
      "metadata": {
        "id": "mEy_0GlzxcHj"
      },
      "execution_count": null,
      "outputs": []
    },
    {
      "cell_type": "code",
      "source": [
        "CF = ContextFrame()\n",
        "for s in bags_scenes.keys():\n",
        "    CF.add(PHC_adjV[s],PHC_adjH[s],PHC_cc[s])\n",
        "    print(s)\n",
        "CF.printCF()"
      ],
      "metadata": {
        "id": "8063TEdo8hhp"
      },
      "execution_count": null,
      "outputs": []
    },
    {
      "cell_type": "markdown",
      "source": [
        "---------------TEST SCENES CF-------------"
      ],
      "metadata": {
        "id": "iKmitz_koL1I"
      }
    },
    {
      "cell_type": "code",
      "source": [
        "CF_Test = ContextFrame()\n",
        "for s in bags_scenes_Test.keys():\n",
        "    CF_Test.add(PHC_adjV_Test[s],PHC_adjH_Test[s],PHC_cc_Test[s])\n",
        "    print(s)\n",
        "CF_Test.printCF()\n"
      ],
      "metadata": {
        "id": "4XJFx4n-kPiP"
      },
      "execution_count": null,
      "outputs": []
    },
    {
      "cell_type": "markdown",
      "source": [
        "====================================================== MPFC ======================================================="
      ],
      "metadata": {
        "id": "aSh_zvdBkLtv"
      }
    },
    {
      "cell_type": "markdown",
      "source": [
        "---------------TEST SCENES MATCH-------------"
      ],
      "metadata": {
        "id": "aaadqWDQkDFb"
      }
    },
    {
      "cell_type": "code",
      "source": [
        "def getUpBows(cf0,bow_id):\n",
        "    return cf0.map[bow_id][\"U\"]\n",
        "\n",
        "def getDownBows(cf0,bow_id):\n",
        "    return cf0.map[bow_id][\"D\"]\n",
        "\n",
        "def getRightBows(cf0,bow_id):\n",
        "    return cf0.map[bow_id][\"R\"]\n",
        "\n",
        "def getLeftBows(cf0,bow_id):\n",
        "    return cf0.map[bow_id][\"L\"]"
      ],
      "metadata": {
        "id": "r-rH2MsAoPji"
      },
      "execution_count": null,
      "outputs": []
    },
    {
      "cell_type": "code",
      "source": [
        "def getTarget(pos):\n",
        "    bow_id_test = ()\n",
        "    for s in bags_scenes_Test.keys():\n",
        "        for bow in bags_scenes_Test[s]:\n",
        "            if bow.posID == pos:\n",
        "                bow_id_test = bow.hashID()\n",
        "                break\n",
        "    return bow_id_test"
      ],
      "metadata": {
        "id": "cTB1SdzWweyv"
      },
      "execution_count": null,
      "outputs": []
    },
    {
      "cell_type": "code",
      "source": [
        "def getBows(targetPos, targetID, CF_Test ,ringr=1):\n",
        "    bow_up = None\n",
        "    bow_down = None\n",
        "    bow_right = None\n",
        "    bow_left = None\n",
        "    #print(targetID)\n",
        "    ring_up = ringr\n",
        "    while ring_up>0:\n",
        "        for bow in getUpBows(CF_Test,targetID):\n",
        "            if bow.posID[1] == targetPos[1]-ringr:#<4 and bow_up.posID[1] >=4-ringr:\n",
        "                bow_up = bow\n",
        "                #print(bow_up.posID)\n",
        "                break\n",
        "        if bow_up != None:\n",
        "            break\n",
        "        ring_up -= 1\n",
        "\n",
        "    ring_down = ringr\n",
        "    while ring_down>0:\n",
        "        for bow in getDownBows(CF_Test,targetID):\n",
        "            if bow.posID[1] == targetPos[1]+ringr:#>4 and bow_down.posID[1] <=4+ringr:\n",
        "                bow_down = bow\n",
        "                #print(bow_down.posID)\n",
        "                break\n",
        "        if bow_down != None:\n",
        "            break\n",
        "        ring_down -= 1\n",
        "\n",
        "    ring_right = ringr\n",
        "    while ring_right>0:\n",
        "        for bow in getRightBows(CF_Test,targetID):\n",
        "            #if bow != None:\n",
        "                #print(\"BOW_RIGHT_ID: \" + str(bow.hashID()))\n",
        "                #print(\"BOW_RIGHT_POS: \" + str(bow.posID))\n",
        "            if bow.posID[0] ==targetPos[0]+ringr:#>4 and bow_right.posID[0] <=4+ringr:\n",
        "                bow_right = bow\n",
        "                #print(bow_right.posID)\n",
        "                break\n",
        "        if bow_right != None:\n",
        "            break\n",
        "        ring_right -= 1\n",
        "\n",
        "    ring_left = ringr\n",
        "    while ring_left>0:\n",
        "        for bow in getLeftBows(CF_Test,targetID):\n",
        "            if bow.posID[0] ==targetPos[0]-ringr:#<4 and bow_left.posID[0] >=4-ringr:\n",
        "                bow_left = bow\n",
        "                #print(bow_left.posID)\n",
        "                break\n",
        "        if bow_left != None:\n",
        "            break\n",
        "        ring_left -= 1\n",
        "\n",
        "    return (bow_up,bow_down,bow_right,bow_left)"
      ],
      "metadata": {
        "id": "HzmmnAj_pGHB"
      },
      "execution_count": null,
      "outputs": []
    },
    {
      "cell_type": "code",
      "source": [
        "def searchCandidates(targetPos,CF,CF_Test):\n",
        "\n",
        "    candidate_set = set()\n",
        "    ringr=1\n",
        "    risk = 0\n",
        "    while len(candidate_set)<=0 and ringr<10:\n",
        "        targetID = getTarget(targetPos)\n",
        "\n",
        "        bows = getBows(targetPos,targetID,CF_Test,ringr=ringr)\n",
        "        #print(bows)\n",
        "        set_up = set()\n",
        "        set_down = set()\n",
        "        set_right = set()\n",
        "        set_left = set()\n",
        "        candidate_set = set()\n",
        "\n",
        "        #for bow in bow_up:\n",
        "        #    set_up = set_up.union(CF.map[bow.hashID()][\"D\"])\n",
        "        #for bow in bow_down:\n",
        "        #    set_down = set_down.union(CF.map[bow.hashID()][\"U\"])\n",
        "        #for bow in bow_right:\n",
        "        #    set_right = set_right.union(CF.map[bow.hashID()][\"L\"])\n",
        "        #for bow in bow_left:\n",
        "        #    set_left = set_left.union(CF.map[bow.hashID()][\"R\"])\n",
        "        if bows[0] != None:\n",
        "            set_up = CF.map[bows[0].hashID()][\"D\"].union({bows[0]})\n",
        "        if bows[1] != None:\n",
        "            set_down = CF.map[bows[1].hashID()][\"U\"].union({bows[1]})\n",
        "        if bows[2] != None:\n",
        "            set_right = CF.map[bows[2].hashID()][\"L\"].union({bows[2]})\n",
        "        if bows[3] != None:\n",
        "            set_left = CF.map[bows[3].hashID()][\"R\"].union({bows[3]})\n",
        "\n",
        "        #for set_i in [set_up,set_down,set_right,set_left]:\n",
        "        #    for set_j in [set_up,set_down,set_right,set_left]:\n",
        "        #        candidate_set = candidate_set.union(set_i.intersection(set_j))\n",
        "        #candidate_set = set_up.intersection(set_down).intersection(set_right)#.intersection(set_left)\n",
        "        #candidate_set =\n",
        "        #candidate_set = candidate_set.union(set_right.intersection(set_left))\n",
        "        candidate_sets = []\n",
        "        candidate_sets.append(set_up.intersection(set_down))\n",
        "        candidate_sets.append(set_up.intersection(set_down).intersection(set_right))\n",
        "        candidate_sets.append(set_up.intersection(set_down).intersection(set_right).intersection(set_left))\n",
        "        candidate_sets.append(set_up.intersection(set_down).intersection(set_left))\n",
        "        candidate_sets.append(set_up.intersection(set_right))\n",
        "        candidate_sets.append(set_up.intersection(set_right).intersection(set_left))\n",
        "        candidate_sets.append(set_up.intersection(set_left))\n",
        "        candidate_sets.append(set_down.intersection(set_right))\n",
        "        candidate_sets.append(set_down.intersection(set_right).intersection(set_left))\n",
        "        candidate_sets.append(set_down.intersection(set_left))\n",
        "        candidate_sets.append(set_right.intersection(set_left))\n",
        "\n",
        "        ringr+=1\n",
        "        risk+=1\n",
        "        min = 100\n",
        "        for _set in candidate_sets:\n",
        "            if len(_set) < min and len(_set) > 0:\n",
        "                max = len(_set)\n",
        "                candidate_set = _set\n",
        "\n",
        "\n",
        "    return tuple([i.featureArray[0].name for i in candidate_set])"
      ],
      "metadata": {
        "id": "9tibeHffsqRK"
      },
      "execution_count": null,
      "outputs": []
    },
    {
      "cell_type": "code",
      "source": [
        "names_test = {}\n",
        "\n",
        "for bow in list(bags_scenes_Test.values())[0]:\n",
        "    if not bow.isEmpty():\n",
        "        names_test[bow.featureArray[0].name] = searchCandidates(bow.posID,CF,CF_Test)\n",
        "\n",
        "for name in names_test.keys():\n",
        "    print(f\"Object: {name} --> \")\n",
        "    for candidate in names_test[name]:\n",
        "        print(f\"\\t'{candidate}',\")\n",
        "\n",
        "print(names_test.keys())\n",
        "\n"
      ],
      "metadata": {
        "colab": {
          "base_uri": "https://localhost:8080/"
        },
        "id": "rJJbGdzWwM1J",
        "outputId": "2531bb75-4212-4ca3-cfb6-e7b05ca39649"
      },
      "execution_count": null,
      "outputs": [
        {
          "output_type": "stream",
          "name": "stdout",
          "text": [
            "Object: D_Cocina_1_Tetera_1 --> \n",
            "\t'F_Cocina_1_Gabinete_2',\n",
            "\t'F_Cocina_1_Gabinete_9',\n",
            "\t'D_Cocina_1_Tetera_1',\n",
            "\t'D_Cocina_1_Tetera_2',\n",
            "Object: F_Cocina_1_Gabinete_1 --> \n",
            "\t'F_Cocina_1_Gabinete_1',\n",
            "\t'F_Cocina_1_Gabinete_1',\n",
            "\t'D_Cocina_1_Tetera_2',\n",
            "\t'F_Cocina_1_Gabinete_1',\n",
            "Object: F_Cocina_1_Gabinete_9 --> \n",
            "\t'D_Cocina_1_Manzana_1',\n",
            "\t'F_Cocina_1_Estufa_1',\n",
            "\t'D_Cocina_1_Parrilla_1',\n",
            "\t'D_Cocina_1_Sarten_2',\n",
            "\t'F_Cocina_1_Extractor_1',\n",
            "\t'F_Cocina_1_Gabinete_9',\n",
            "\t'F_Cocina_1_Gabinete_2',\n",
            "Object: D_Cocina_1_Sarten_1 --> \n",
            "\t'D_Cocina_1_Manzana_1',\n",
            "\t'F_Cocina_1_Estufa_1',\n",
            "\t'D_Cocina_1_Parrilla_1',\n",
            "\t'D_Cocina_1_Sarten_2',\n",
            "\t'F_Cocina_1_Extractor_1',\n",
            "\t'F_Cocina_1_Gabinete_9',\n",
            "\t'F_Cocina_1_Gabinete_2',\n",
            "Object: F_Cocina_1_Gabinete_2 --> \n",
            "\t'D_Cocina_1_Manzana_1',\n",
            "\t'F_Cocina_1_Estufa_1',\n",
            "\t'D_Cocina_1_Parrilla_1',\n",
            "\t'D_Cocina_1_Sarten_2',\n",
            "\t'F_Cocina_1_Extractor_1',\n",
            "\t'F_Cocina_1_Gabinete_9',\n",
            "\t'F_Cocina_1_Gabinete_2',\n",
            "Object: F_Cocina_1_Extractor_1 --> \n",
            "\t'F_Cocina_1_Estufa_1',\n",
            "\t'D_Cocina_1_Sarten_2',\n",
            "\t'F_Cocina_1_Extractor_1',\n",
            "\t'D_Cocina_1_Parrilla_1',\n",
            "Object: D_Cocina_1_Parrilla_1 --> \n",
            "\t'F_Cocina_1_Estufa_1',\n",
            "\t'D_Cocina_1_Sarten_2',\n",
            "\t'F_Cocina_1_Extractor_1',\n",
            "\t'D_Cocina_1_Parrilla_1',\n",
            "Object: D_Cocina_1_Sarten_2 --> \n",
            "\t'F_Cocina_1_Estufa_1',\n",
            "\t'D_Cocina_1_Sarten_2',\n",
            "\t'F_Cocina_1_Extractor_1',\n",
            "\t'D_Cocina_1_Parrilla_1',\n",
            "Object: F_Cocina_1_Gabinete_3 --> \n",
            "\t'F_Cocina_1_Estufa_1',\n",
            "\t'D_Cocina_1_Sarten_2',\n",
            "\t'F_Cocina_1_Extractor_1',\n",
            "\t'D_Cocina_1_Parrilla_1',\n",
            "Object: F_Cocina_1_Gabinete_8 --> \n",
            "\t'F_Cocina_1_Gabinete_4',\n",
            "\t'F_Cocina_1_Gabinete_7',\n",
            "Object: D_Cocina_1_Manzana_1 --> \n",
            "\t'F_Cocina_1_Gabinete_4',\n",
            "\t'F_Cocina_1_Gabinete_7',\n",
            "Object: F_Cocina_1_Estufa_1 --> \n",
            "\t'F_Cocina_1_Gabinete_4',\n",
            "\t'F_Cocina_1_Gabinete_7',\n",
            "Object: F_Cocina_1_Gabinete_7 --> \n",
            "\t'F_Cocina_1_Extractor_3',\n",
            "\t'F_Cocina_1_Gabinete_7',\n",
            "\t'F_Cocina_1_Gabinete_7',\n",
            "\t'F_Cocina_1_Extractor_2',\n",
            "\t'F_Cocina_1_Gabinete_4',\n",
            "\t'F_Cocina_1_Gabinete_7',\n",
            "\t'D_Cocina_1_Sarten_2',\n",
            "\t'F_Cocina_1_Gabinete_3',\n",
            "\t'D_Cocina_1_Manzana_1',\n",
            "\t'D_Cocina_1_Sarten_1',\n",
            "\t'D_Cocina_1_Sarten_3',\n",
            "\t'F_Cocina_1_Estufa_3',\n",
            "\t'F_Cocina_1_Gabinete_3',\n",
            "\t'F_Cocina_1_Estufa_2',\n",
            "Object: F_Cocina_1_Refri_1 --> \n",
            "\t'F_Cocina_1_Extractor_3',\n",
            "\t'F_Cocina_1_Gabinete_7',\n",
            "\t'F_Cocina_1_Gabinete_7',\n",
            "\t'F_Cocina_1_Extractor_2',\n",
            "\t'F_Cocina_1_Gabinete_4',\n",
            "\t'F_Cocina_1_Gabinete_7',\n",
            "\t'D_Cocina_1_Sarten_2',\n",
            "\t'F_Cocina_1_Gabinete_3',\n",
            "\t'D_Cocina_1_Manzana_1',\n",
            "\t'D_Cocina_1_Sarten_1',\n",
            "\t'D_Cocina_1_Sarten_3',\n",
            "\t'F_Cocina_1_Estufa_3',\n",
            "\t'F_Cocina_1_Gabinete_3',\n",
            "\t'F_Cocina_1_Estufa_2',\n",
            "Object: F_Cocina_1_Gabinete_6 --> \n",
            "\t'F_Cocina_1_Gabinete_6',\n",
            "Object: F_Cocina_1_Gabinete_5 --> \n",
            "\t'F_Cocina_1_Gabinete_6',\n",
            "\t'F_Cocina_1_Gabinete_5',\n",
            "\t'F_Cocina_1_Gabinete_5',\n",
            "\t'D_Cocina_1_Parrilla_1',\n",
            "\t'D_Cocina_1_Pan_1',\n",
            "\t'F_Cocina_1_Gabinete_6',\n",
            "Object: D_Cocina_1_Pan_1 --> \n",
            "\t'F_Cocina_1_Gabinete_6',\n",
            "\t'F_Cocina_1_Gabinete_6',\n",
            "\t'D_Cocina_1_Pan_1',\n",
            "\t'F_Cocina_1_Gabinete_5',\n",
            "\t'F_Cocina_1_Gabinete_5',\n",
            "\t'D_Cocina_1_Parrilla_1',\n",
            "\t'D_Cocina_1_Pan_1',\n",
            "\t'F_Cocina_1_Gabinete_6',\n",
            "\t'D_Cocina_1_Pan_1',\n",
            "\t'F_Cocina_1_Gabinete_5',\n",
            "Object: F_Cocina_1_Gabinete_4 --> \n",
            "\t'F_Cocina_1_Refri_1',\n",
            "\t'F_Cocina_1_Refri_1',\n",
            "\t'F_Cocina_1_Gabinete_4',\n",
            "\t'F_Cocina_1_Refri_1',\n",
            "\t'F_Cocina_1_Gabinete_4',\n",
            "dict_keys(['D_Cocina_1_Tetera_1', 'F_Cocina_1_Gabinete_1', 'F_Cocina_1_Gabinete_9', 'D_Cocina_1_Sarten_1', 'F_Cocina_1_Gabinete_2', 'F_Cocina_1_Extractor_1', 'D_Cocina_1_Parrilla_1', 'D_Cocina_1_Sarten_2', 'F_Cocina_1_Gabinete_3', 'F_Cocina_1_Gabinete_8', 'D_Cocina_1_Manzana_1', 'F_Cocina_1_Estufa_1', 'F_Cocina_1_Gabinete_7', 'F_Cocina_1_Refri_1', 'F_Cocina_1_Gabinete_6', 'F_Cocina_1_Gabinete_5', 'D_Cocina_1_Pan_1', 'F_Cocina_1_Gabinete_4'])\n"
          ]
        }
      ]
    }
  ]
}